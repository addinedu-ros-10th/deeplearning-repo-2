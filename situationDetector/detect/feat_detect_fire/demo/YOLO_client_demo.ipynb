{
 "cells": [
  {
   "cell_type": "code",
   "execution_count": null,
   "id": "fde3ff46",
   "metadata": {},
   "outputs": [],
   "source": [
    "# 카메라(/dev/video0) 데이터의 1프레임을 YOLO로 인식한 후 객체 수 데이터를 서버로 전송하는 코드 (클라이언트)\n",
    "\n",
    "import cv2\n",
    "from ultralytics import YOLO\n",
    "\n",
    "model = YOLO(\"best.pt\")\n",
    "\n",
    "cap = cv2.VideoCapture(0)\n",
    "results = None\n",
    "\n",
    "# 1프레임 실행 이후 수동 종료 필요\n",
    "while cap.isOpened():\n",
    "  # Read a frame from the video\n",
    "  success, frame = cap.read()\n",
    "  \n",
    "  if success:\n",
    "    # run model on the frame, persisting tracks between frames\n",
    "    results = model.track(frame, persist = True)\n",
    "\n",
    "    print(results[0].names)"
   ]
  },
  {
   "cell_type": "code",
   "execution_count": 2,
   "id": "386ea5d0",
   "metadata": {},
   "outputs": [
    {
     "data": {
      "text/plain": [
       "1"
      ]
     },
     "execution_count": 2,
     "metadata": {},
     "output_type": "execute_result"
    }
   ],
   "source": [
    "len(results)"
   ]
  },
  {
   "cell_type": "code",
   "execution_count": 3,
   "id": "1a97daa2",
   "metadata": {},
   "outputs": [],
   "source": [
    "# 2. 카메라 수동 종료후 꺼주기 작업 필요\n",
    "cap.release()"
   ]
  },
  {
   "cell_type": "code",
   "execution_count": 3,
   "id": "6ae58eb0",
   "metadata": {},
   "outputs": [
    {
     "data": {
      "text/plain": [
       "ultralytics.engine.results.Results object with attributes:\n",
       "\n",
       "boxes: ultralytics.engine.results.Boxes object\n",
       "keypoints: None\n",
       "masks: None\n",
       "names: {0: 'smoke', 1: 'fire'}\n",
       "obb: None\n",
       "orig_img: array([[[115, 135, 134],\n",
       "        [116, 137, 135],\n",
       "        [118, 135, 137],\n",
       "        ...,\n",
       "        [113, 129, 143],\n",
       "        [117, 130, 144],\n",
       "        [115, 129, 143]],\n",
       "\n",
       "       [[117, 135, 134],\n",
       "        [118, 136, 135],\n",
       "        [118, 136, 135],\n",
       "        ...,\n",
       "        [113, 129, 143],\n",
       "        [115, 131, 144],\n",
       "        [115, 131, 144]],\n",
       "\n",
       "       [[119, 132, 135],\n",
       "        [121, 133, 136],\n",
       "        [117, 134, 136],\n",
       "        ...,\n",
       "        [115, 131, 144],\n",
       "        [116, 132, 145],\n",
       "        [117, 133, 146]],\n",
       "\n",
       "       ...,\n",
       "\n",
       "       [[ 31,  31,  33],\n",
       "        [ 22,  21,  24],\n",
       "        [ 23,  22,  25],\n",
       "        ...,\n",
       "        [ 29,  29,  29],\n",
       "        [ 27,  27,  27],\n",
       "        [ 29,  29,  29]],\n",
       "\n",
       "       [[ 26,  25,  27],\n",
       "        [ 22,  21,  24],\n",
       "        [ 26,  25,  27],\n",
       "        ...,\n",
       "        [ 30,  30,  30],\n",
       "        [ 28,  28,  28],\n",
       "        [ 29,  29,  29]],\n",
       "\n",
       "       [[ 24,  24,  26],\n",
       "        [ 22,  21,  24],\n",
       "        [ 23,  22,  25],\n",
       "        ...,\n",
       "        [ 31,  31,  31],\n",
       "        [ 30,  30,  30],\n",
       "        [ 31,  31,  31]]], shape=(480, 640, 3), dtype=uint8)\n",
       "orig_shape: (480, 640)\n",
       "path: 'image0.jpg'\n",
       "probs: None\n",
       "save_dir: 'runs/detect/track'\n",
       "speed: {'preprocess': 1.8154070021410007, 'inference': 84.03244899818674, 'postprocess': 1.7698849987937137}"
      ]
     },
     "execution_count": 3,
     "metadata": {},
     "output_type": "execute_result"
    }
   ],
   "source": [
    "# 3. 1프레임 정보 확인\n",
    "results[0]"
   ]
  },
  {
   "cell_type": "code",
   "execution_count": 4,
   "id": "290d1906",
   "metadata": {},
   "outputs": [],
   "source": [
    "# 4. 전송할 데이터 구조 생성\n",
    "import time\n",
    "import json\n",
    "\n",
    "def generateData():\n",
    "  data = {\n",
    "    \"timestamp\" : time.time(),\n",
    "    \"detections\" : results[0].names,\n",
    "  }\n",
    "  return data\n",
    "\n",
    "data = generateData()\n",
    "\n",
    "# 파이썬 딕셔너리를 json 문자열로 <str> 변환 (직렬화)\n",
    "json_string = json.dumps(data, indent=2, ensure_ascii=False)\n",
    "\n",
    "# 파이썬 딕셔너리를 json 문자열로 <str> 변환 (직렬화)\n",
    "data = json.dumps(data, ensure_ascii=False)\n",
    "\n",
    "\n",
    "# str 문자열화된 json 데이터를 utf-8 바이트 데이터로 변환 (인코딩)\n",
    "message_bytes = data.encode('utf-8')"
   ]
  },
  {
   "cell_type": "code",
   "execution_count": 17,
   "id": "f5ab6a45",
   "metadata": {},
   "outputs": [],
   "source": [
    "# 5. 전송 함수 코드 작성\n",
    "import socket\n",
    "\n",
    "HOST = 'localhost' # 로컬호스트\n",
    "PORT = 6600 # 6600번 포트 사용\n",
    "\n",
    "def send(data):\n",
    "  with socket.socket(socket.AF_INET, socket.SOCK_STREAM) as s:\n",
    "    print(f\"시스템 : 연결 대기 - {HOST} : {PORT}\")\n",
    "    s.connect((HOST, PORT))\n",
    "    # s.setsockopt(socket.SOL_SOCKET, socket.SO_REUSEADDR, 1) # -> 소켓을 여는 측은 클라이언트가 아니라 서버이어야 함\n",
    "    # s.bind((HOST, PORT))\n",
    "    # s.listen()\n",
    "    print(f\"시스템 : 연결 완료 - {HOST} : {PORT}\")\n",
    "    \n",
    "    # conn, addr = s.accept() # -> 연결을 수락하는측은 서버이고, 클라이언트는 accept하지 않는다.\n",
    "    \n",
    "    # with s:\n",
    "    # 연결시 실행 동작\n",
    "    try:\n",
    "      while True:\n",
    "        # 바이트 데이터 전송\n",
    "        s.sendall(data)\n",
    "        print(\"\\n전송 완료\")\n",
    "        \n",
    "        # 1초 대기\n",
    "        time.sleep(1)\n",
    "    except (BrokenPipeError, ConnectionResetError):\n",
    "      print(f\"연결 끊어짐\")\n",
    "    finally:\n",
    "      print(\"서버 종료\")"
   ]
  },
  {
   "cell_type": "code",
   "execution_count": 18,
   "id": "abe6e11b",
   "metadata": {},
   "outputs": [
    {
     "name": "stdout",
     "output_type": "stream",
     "text": [
      "b'{\"timestamp\": 1756969480.6353636, \"detections\": {\"0\": \"smoke\", \"1\": \"fire\"}}'\n",
      "<class 'bytes'>\n"
     ]
    }
   ],
   "source": [
    "# 6. 생성한 인코딩 데이터 확인\n",
    "print(message_bytes)\n",
    "print(type(message_bytes))"
   ]
  },
  {
   "cell_type": "code",
   "execution_count": 21,
   "id": "c3caa183",
   "metadata": {},
   "outputs": [
    {
     "name": "stdout",
     "output_type": "stream",
     "text": [
      "시스템 : 연결 대기 - localhost : 6600\n",
      "시스템 : 연결 완료 - localhost : 6600\n",
      "\n",
      "전송 완료\n",
      "\n",
      "전송 완료\n",
      "\n",
      "전송 완료\n",
      "\n",
      "전송 완료\n",
      "\n",
      "전송 완료\n",
      "\n",
      "전송 완료\n",
      "\n",
      "전송 완료\n",
      "서버 종료\n"
     ]
    },
    {
     "ename": "KeyboardInterrupt",
     "evalue": "",
     "output_type": "error",
     "traceback": [
      "\u001b[31m---------------------------------------------------------------------------\u001b[39m",
      "\u001b[31mKeyboardInterrupt\u001b[39m                         Traceback (most recent call last)",
      "\u001b[36mCell\u001b[39m\u001b[36m \u001b[39m\u001b[32mIn[21]\u001b[39m\u001b[32m, line 3\u001b[39m\n\u001b[32m      1\u001b[39m \u001b[38;5;66;03m# 7. 전송 함수를 이용하여 변환된 인코딩 데이터 전송\u001b[39;00m\n\u001b[32m      2\u001b[39m \u001b[38;5;66;03m# -> 서버 코드 실행시 전송 작업 수행함 (test_server.py)\u001b[39;00m\n\u001b[32m----> \u001b[39m\u001b[32m3\u001b[39m \u001b[43msend\u001b[49m\u001b[43m(\u001b[49m\u001b[43mmessage_bytes\u001b[49m\u001b[43m)\u001b[49m\n",
      "\u001b[36mCell\u001b[39m\u001b[36m \u001b[39m\u001b[32mIn[17]\u001b[39m\u001b[32m, line 27\u001b[39m, in \u001b[36msend\u001b[39m\u001b[34m(data)\u001b[39m\n\u001b[32m     24\u001b[39m     \u001b[38;5;28mprint\u001b[39m(\u001b[33m\"\u001b[39m\u001b[38;5;130;01m\\n\u001b[39;00m\u001b[33m전송 완료\u001b[39m\u001b[33m\"\u001b[39m)\n\u001b[32m     26\u001b[39m     \u001b[38;5;66;03m# 1초 대기\u001b[39;00m\n\u001b[32m---> \u001b[39m\u001b[32m27\u001b[39m     \u001b[43mtime\u001b[49m\u001b[43m.\u001b[49m\u001b[43msleep\u001b[49m\u001b[43m(\u001b[49m\u001b[32;43m1\u001b[39;49m\u001b[43m)\u001b[49m\n\u001b[32m     28\u001b[39m \u001b[38;5;28;01mexcept\u001b[39;00m (\u001b[38;5;167;01mBrokenPipeError\u001b[39;00m, \u001b[38;5;167;01mConnectionResetError\u001b[39;00m):\n\u001b[32m     29\u001b[39m   \u001b[38;5;28mprint\u001b[39m(\u001b[33mf\u001b[39m\u001b[33m\"\u001b[39m\u001b[33m연결 끊어짐\u001b[39m\u001b[33m\"\u001b[39m)\n",
      "\u001b[31mKeyboardInterrupt\u001b[39m: "
     ]
    }
   ],
   "source": [
    "# 7. 전송 함수를 이용하여 변환된 인코딩 데이터 전송\n",
    "# -> 서버 코드 실행시 전송 작업 수행함 (test_server.py)\n",
    "send(message_bytes)"
   ]
  },
  {
   "cell_type": "code",
   "execution_count": null,
   "id": "fd923242",
   "metadata": {},
   "outputs": [],
   "source": []
  }
 ],
 "metadata": {
  "kernelspec": {
   "display_name": ".venv",
   "language": "python",
   "name": "python3"
  },
  "language_info": {
   "codemirror_mode": {
    "name": "ipython",
    "version": 3
   },
   "file_extension": ".py",
   "mimetype": "text/x-python",
   "name": "python",
   "nbconvert_exporter": "python",
   "pygments_lexer": "ipython3",
   "version": "3.12.3"
  }
 },
 "nbformat": 4,
 "nbformat_minor": 5
}
