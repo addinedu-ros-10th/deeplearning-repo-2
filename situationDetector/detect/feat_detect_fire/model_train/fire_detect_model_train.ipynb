{
 "cells": [
  {
   "cell_type": "code",
   "execution_count": 1,
   "id": "b87067f7",
   "metadata": {},
   "outputs": [
    {
     "data": {
      "text/plain": [
       "\"\\n(분류)\\n화재씬\\n  - (01) 검정색 연기 발생 -> ['화재연기']\\n  - (02) 회색 연기 발생 -> ['화재연기']\\n  - (03) 흰색 연기 발생 -> ['화재연기']\\n  - (04) 화재(불꽃) 발생 -> ['화재']\\n  - (05) 구름 -> ['무관객체']\\n\\n유사씬\\n  - (06) 안개(연무) -> ['무관객체']\\n  - (07) 조명 -> ['무관객체']\\n  - (08) 햇빛 -> ['무관객체']\\n  - (09) 흔들림이 있는 흰색/회색/검정색 물체 -> ['무관객체']\\n  - (10) 바람에 흔들리는 나뭇잎, 풀 등 -> ['무관객체']\\n\\n무관씬\\n  - (11) 무관씬 -> ['무관객체']\\n\""
      ]
     },
     "execution_count": 1,
     "metadata": {},
     "output_type": "execute_result"
    }
   ],
   "source": [
    "# fire_predict 클래스 분류\n",
    "\n",
    "\"\"\"\n",
    "원천 데이터 분류 : ['화재씬', '유사씬', '무관씬']\n",
    "-> ['화재씬']에 등장하고 화재로 이어지는 연기 : 화재 연기(위험 연기)로 라벨링\n",
    "-> ['유사씬', '무관씬']에 등장하는 연기 : 일반연기로 라벨링\n",
    "\n",
    "클래스 : ['화재', '화재연기', '일반연기', '무관객체']\n",
    "\"\"\"\n",
    "\n",
    "# fire_predict 어노테이션 (재 라벨링)\n",
    "\n",
    "\"\"\"\n",
    "(분류)\n",
    "화재씬\n",
    "  - (01) 검정색 연기 발생 -> ['화재연기']\n",
    "  - (02) 회색 연기 발생 -> ['화재연기']\n",
    "  - (03) 흰색 연기 발생 -> ['화재연기']\n",
    "  - (04) 화재(불꽃) 발생 -> ['화재']\n",
    "  - (05) 구름 -> ['무관객체']\n",
    "\n",
    "유사씬\n",
    "  - (06) 안개(연무) -> ['무관객체']\n",
    "  - (07) 조명 -> ['무관객체']\n",
    "  - (08) 햇빛 -> ['무관객체']\n",
    "  - (09) 흔들림이 있는 흰색/회색/검정색 물체 -> ['무관객체']\n",
    "  - (10) 바람에 흔들리는 나뭇잎, 풀 등 -> ['무관객체']\n",
    "\n",
    "무관씬\n",
    "  - (11) 무관씬 -> ['무관객체']\n",
    "\"\"\""
   ]
  },
  {
   "cell_type": "code",
   "execution_count": null,
   "id": "c004962c",
   "metadata": {},
   "outputs": [],
   "source": []
  },
  {
   "cell_type": "code",
   "execution_count": 5,
   "id": "83a4c147",
   "metadata": {},
   "outputs": [
    {
     "name": "stdout",
     "output_type": "stream",
     "text": [
      "True\n"
     ]
    }
   ],
   "source": [
    "import torch\n",
    "\n",
    "torch.cuda.empty_cache()\n",
    "torch.cuda.init() # CUDA\n",
    "print(torch.cuda.is_available()) # CUDA 디바이스 사용 가능 여부 확인"
   ]
  },
  {
   "cell_type": "code",
   "execution_count": 6,
   "id": "c930ce0d",
   "metadata": {},
   "outputs": [],
   "source": [
    "\"\"\"\n",
    "1. json 데이터 -> yolo 형식 (.txt)으로 변환\n",
    "<class_id> <x_center> <y_center> <width> <height> : 모든 좌표와 크기는 이미지의 전체 너비와 높이에 대해서 0 ~ 1사이 값으로 정규화\n",
    "\"\"\"\n",
    "# 기존의 yolov8n.pt모델 또는 최근의 best모델 불러오기\n",
    "from ultralytics import YOLO\n",
    "\n",
    "model = YOLO('yolov8n.pt')"
   ]
  },
  {
   "cell_type": "code",
   "execution_count": 7,
   "id": "6201244c",
   "metadata": {},
   "outputs": [
    {
     "name": "stdout",
     "output_type": "stream",
     "text": [
      "New https://pypi.org/project/ultralytics/8.3.196 available 😃 Update with 'pip install -U ultralytics'\n",
      "Ultralytics 8.3.192 🚀 Python-3.12.3 torch-2.8.0+cu128 CUDA:0 (NVIDIA GeForce RTX 3060 Laptop GPU, 5815MiB)\n",
      "\u001b[34m\u001b[1mengine/trainer: \u001b[0magnostic_nms=False, amp=True, augment=False, auto_augment=randaugment, batch=16, bgr=0.0, box=7.5, cache=False, cfg=None, classes=None, close_mosaic=10, cls=0.5, conf=None, copy_paste=0.0, copy_paste_mode=flip, cos_lr=False, cutmix=0.0, data=data.yaml, degrees=0.0, deterministic=True, device=None, dfl=1.5, dnn=False, dropout=0.0, dynamic=False, embed=None, epochs=3, erasing=0.4, exist_ok=False, fliplr=0.5, flipud=0.0, format=torchscript, fraction=1.0, freeze=None, half=False, hsv_h=0.015, hsv_s=0.7, hsv_v=0.4, imgsz=640, int8=False, iou=0.7, keras=False, kobj=1.0, line_width=None, lr0=0.01, lrf=0.01, mask_ratio=4, max_det=300, mixup=0.0, mode=train, model=yolov8n.pt, momentum=0.937, mosaic=1.0, multi_scale=False, name=train9, nbs=64, nms=False, opset=None, optimize=False, optimizer=auto, overlap_mask=True, patience=100, perspective=0.0, plots=True, pose=12.0, pretrained=True, profile=False, project=None, rect=False, resume=False, retina_masks=False, save=True, save_conf=False, save_crop=False, save_dir=runs/detect/train9, save_frames=False, save_json=False, save_period=-1, save_txt=False, scale=0.5, seed=0, shear=0.0, show=False, show_boxes=True, show_conf=True, show_labels=True, simplify=True, single_cls=False, source=None, split=val, stream_buffer=False, task=detect, time=None, tracker=botsort.yaml, translate=0.1, val=True, verbose=True, vid_stride=1, visualize=False, warmup_bias_lr=0.1, warmup_epochs=3.0, warmup_momentum=0.8, weight_decay=0.0005, workers=8, workspace=None\n",
      "Overriding model.yaml nc=80 with nc=4\n",
      "\n",
      "                   from  n    params  module                                       arguments                     \n",
      "  0                  -1  1       464  ultralytics.nn.modules.conv.Conv             [3, 16, 3, 2]                 \n",
      "  1                  -1  1      4672  ultralytics.nn.modules.conv.Conv             [16, 32, 3, 2]                \n",
      "  2                  -1  1      7360  ultralytics.nn.modules.block.C2f             [32, 32, 1, True]             \n",
      "  3                  -1  1     18560  ultralytics.nn.modules.conv.Conv             [32, 64, 3, 2]                \n",
      "  4                  -1  2     49664  ultralytics.nn.modules.block.C2f             [64, 64, 2, True]             \n",
      "  5                  -1  1     73984  ultralytics.nn.modules.conv.Conv             [64, 128, 3, 2]               \n",
      "  6                  -1  2    197632  ultralytics.nn.modules.block.C2f             [128, 128, 2, True]           \n",
      "  7                  -1  1    295424  ultralytics.nn.modules.conv.Conv             [128, 256, 3, 2]              \n",
      "  8                  -1  1    460288  ultralytics.nn.modules.block.C2f             [256, 256, 1, True]           \n",
      "  9                  -1  1    164608  ultralytics.nn.modules.block.SPPF            [256, 256, 5]                 \n",
      " 10                  -1  1         0  torch.nn.modules.upsampling.Upsample         [None, 2, 'nearest']          \n",
      " 11             [-1, 6]  1         0  ultralytics.nn.modules.conv.Concat           [1]                           \n",
      " 12                  -1  1    148224  ultralytics.nn.modules.block.C2f             [384, 128, 1]                 \n",
      " 13                  -1  1         0  torch.nn.modules.upsampling.Upsample         [None, 2, 'nearest']          \n",
      " 14             [-1, 4]  1         0  ultralytics.nn.modules.conv.Concat           [1]                           \n",
      " 15                  -1  1     37248  ultralytics.nn.modules.block.C2f             [192, 64, 1]                  \n",
      " 16                  -1  1     36992  ultralytics.nn.modules.conv.Conv             [64, 64, 3, 2]                \n",
      " 17            [-1, 12]  1         0  ultralytics.nn.modules.conv.Concat           [1]                           \n",
      " 18                  -1  1    123648  ultralytics.nn.modules.block.C2f             [192, 128, 1]                 \n",
      " 19                  -1  1    147712  ultralytics.nn.modules.conv.Conv             [128, 128, 3, 2]              \n",
      " 20             [-1, 9]  1         0  ultralytics.nn.modules.conv.Concat           [1]                           \n",
      " 21                  -1  1    493056  ultralytics.nn.modules.block.C2f             [384, 256, 1]                 \n",
      " 22        [15, 18, 21]  1    752092  ultralytics.nn.modules.head.Detect           [4, [64, 128, 256]]           \n",
      "Model summary: 129 layers, 3,011,628 parameters, 3,011,612 gradients, 8.2 GFLOPs\n",
      "\n",
      "Transferred 319/355 items from pretrained weights\n",
      "Freezing layer 'model.22.dfl.conv.weight'\n",
      "\u001b[34m\u001b[1mAMP: \u001b[0mrunning Automatic Mixed Precision (AMP) checks...\n",
      "\u001b[34m\u001b[1mAMP: \u001b[0mchecks passed ✅\n",
      "\u001b[34m\u001b[1mtrain: \u001b[0mFast image access ✅ (ping: 0.0±0.0 ms, read: 1033.5±814.4 MB/s, size: 990.4 KB)\n",
      "\u001b[K\u001b[34m\u001b[1mtrain: \u001b[0mScanning /home/park/dev_ws/deeplearning-repo-2/feat_detect_fire/smoke_detect/data/train/labels.cache... 572 images, 0 backgrounds, 0 corrupt: 100% ━━━━━━━━━━━━ 572/572 324559.2it/s 0.0s.0s\n",
      "\u001b[34m\u001b[1mval: \u001b[0mFast image access ✅ (ping: 0.1±0.0 ms, read: 478.4±254.1 MB/s, size: 554.9 KB)\n",
      "\u001b[K\u001b[34m\u001b[1mval: \u001b[0mScanning /home/park/dev_ws/deeplearning-repo-2/feat_detect_fire/smoke_detect/data/val/labels.cache... 100 images, 0 backgrounds, 0 corrupt: 100% ━━━━━━━━━━━━ 100/100 75491.4it/s 0.0s.0s\n",
      "Plotting labels to runs/detect/train9/labels.jpg... \n",
      "\u001b[34m\u001b[1moptimizer:\u001b[0m 'optimizer=auto' found, ignoring 'lr0=0.01' and 'momentum=0.937' and determining best 'optimizer', 'lr0' and 'momentum' automatically... \n",
      "\u001b[34m\u001b[1moptimizer:\u001b[0m AdamW(lr=0.00125, momentum=0.9) with parameter groups 57 weight(decay=0.0), 64 weight(decay=0.0005), 63 bias(decay=0.0)\n",
      "Image sizes 640 train, 640 val\n",
      "Using 8 dataloader workers\n",
      "Logging results to \u001b[1mruns/detect/train9\u001b[0m\n",
      "Starting training for 3 epochs...\n",
      "\n",
      "      Epoch    GPU_mem   box_loss   cls_loss   dfl_loss  Instances       Size\n",
      "\u001b[K        1/3      2.12G      1.784      2.942      1.705         43        640: 100% ━━━━━━━━━━━━ 36/36 3.5it/s 10.4s0.2s\n",
      "\u001b[K                 Class     Images  Instances      Box(P          R      mAP50  mAP50-95): 100% ━━━━━━━━━━━━ 4/4 5.1it/s 0.8s0.3s\n",
      "                   all        100        100          0          0          0          0\n",
      "\n",
      "      Epoch    GPU_mem   box_loss   cls_loss   dfl_loss  Instances       Size\n",
      "\u001b[K        2/3      2.12G      1.438      1.727      1.384         27        640: 100% ━━━━━━━━━━━━ 36/36 5.8it/s 6.2s0.2s\n",
      "\u001b[K                 Class     Images  Instances      Box(P          R      mAP50  mAP50-95): 100% ━━━━━━━━━━━━ 4/4 5.3it/s 0.8s0.3ss\n",
      "                   all        100        100     0.0249       0.62     0.0298    0.00852\n",
      "\n",
      "      Epoch    GPU_mem   box_loss   cls_loss   dfl_loss  Instances       Size\n",
      "\u001b[K        3/3      2.12G      1.292      1.492      1.289         31        640: 100% ━━━━━━━━━━━━ 36/36 4.6it/s 7.9s0.2s\n",
      "\u001b[K                 Class     Images  Instances      Box(P          R      mAP50  mAP50-95): 100% ━━━━━━━━━━━━ 4/4 4.8it/s 0.8s0.4s\n",
      "                   all        100        100      0.766      0.359      0.551      0.191\n",
      "\n",
      "3 epochs completed in 0.010 hours.\n",
      "Optimizer stripped from runs/detect/train9/weights/last.pt, 6.2MB\n",
      "Optimizer stripped from runs/detect/train9/weights/best.pt, 6.2MB\n",
      "\n",
      "Validating runs/detect/train9/weights/best.pt...\n",
      "Ultralytics 8.3.192 🚀 Python-3.12.3 torch-2.8.0+cu128 CUDA:0 (NVIDIA GeForce RTX 3060 Laptop GPU, 5815MiB)\n",
      "Model summary (fused): 72 layers, 3,006,428 parameters, 0 gradients, 8.1 GFLOPs\n",
      "\u001b[K                 Class     Images  Instances      Box(P          R      mAP50  mAP50-95): 100% ━━━━━━━━━━━━ 4/4 3.1it/s 1.3s0.4s\n",
      "                   all        100        100      0.745       0.36      0.554      0.192\n",
      "            fire_smoke        100        100      0.745       0.36      0.554      0.192\n",
      "Speed: 0.2ms preprocess, 2.6ms inference, 0.0ms loss, 5.3ms postprocess per image\n",
      "Results saved to \u001b[1mruns/detect/train9\u001b[0m\n"
     ]
    }
   ],
   "source": [
    "# 훈련\n",
    "results = model.train(data = 'data.yaml', epochs = 3)"
   ]
  },
  {
   "cell_type": "code",
   "execution_count": 8,
   "id": "030924c5",
   "metadata": {},
   "outputs": [],
   "source": [
    "torch.cuda.empty_cache()\n"
   ]
  },
  {
   "cell_type": "code",
   "execution_count": null,
   "id": "aca65950",
   "metadata": {},
   "outputs": [],
   "source": []
  }
 ],
 "metadata": {
  "kernelspec": {
   "display_name": ".venv",
   "language": "python",
   "name": "python3"
  },
  "language_info": {
   "codemirror_mode": {
    "name": "ipython",
    "version": 3
   },
   "file_extension": ".py",
   "mimetype": "text/x-python",
   "name": "python",
   "nbconvert_exporter": "python",
   "pygments_lexer": "ipython3",
   "version": "3.12.3"
  }
 },
 "nbformat": 4,
 "nbformat_minor": 5
}
